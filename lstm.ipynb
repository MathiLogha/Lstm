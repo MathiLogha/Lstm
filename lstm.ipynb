{
  "nbformat": 4,
  "nbformat_minor": 0,
  "metadata": {
    "colab": {
      "provenance": [],
      "include_colab_link": true
    },
    "kernelspec": {
      "name": "python3",
      "display_name": "Python 3"
    },
    "language_info": {
      "name": "python"
    }
  },
  "cells": [
    {
      "cell_type": "markdown",
      "metadata": {
        "id": "view-in-github",
        "colab_type": "text"
      },
      "source": [
        "<a href=\"https://colab.research.google.com/github/MathiLogha/Lstm/blob/main/lstm.ipynb\" target=\"_parent\"><img src=\"https://colab.research.google.com/assets/colab-badge.svg\" alt=\"Open In Colab\"/></a>"
      ]
    },
    {
      "cell_type": "code",
      "execution_count": null,
      "metadata": {
        "id": "m8E4zcRh5nfb"
      },
      "outputs": [],
      "source": [
        "import torch\n",
        "import torch.nn as nn\n",
        "import pandas as pd\n",
        "import numpy as np\n",
        "from sklearn.preprocessing import MinMaxScaler"
      ]
    },
    {
      "cell_type": "code",
      "source": [
        "import pandas as pd\n",
        "url = \"https://raw.githubusercontent.com/jbrownlee/Datasets/master/pollution.csv\"\n",
        "data = pd.read_csv(url)\n",
        "print(data.head())"
      ],
      "metadata": {
        "colab": {
          "base_uri": "https://localhost:8080/"
        },
        "id": "dumB7PypnMRl",
        "outputId": "d7da330f-b641-4d2d-aba9-57d8aedfdee4"
      },
      "execution_count": null,
      "outputs": [
        {
          "output_type": "stream",
          "name": "stdout",
          "text": [
            "   No  year  month  day  hour  pm2.5  DEWP  TEMP    PRES cbwd    Iws  Is  Ir\n",
            "0   1  2010      1    1     0    NaN   -21 -11.0  1021.0   NW   1.79   0   0\n",
            "1   2  2010      1    1     1    NaN   -21 -12.0  1020.0   NW   4.92   0   0\n",
            "2   3  2010      1    1     2    NaN   -21 -11.0  1019.0   NW   6.71   0   0\n",
            "3   4  2010      1    1     3    NaN   -21 -14.0  1019.0   NW   9.84   0   0\n",
            "4   5  2010      1    1     4    NaN   -20 -12.0  1018.0   NW  12.97   0   0\n"
          ]
        }
      ]
    },
    {
      "cell_type": "code",
      "source": [
        "data = data.dropna()\n",
        "scaler = MinMaxScaler()\n",
        "data[\"scaled_pm2.5\"] = scaler.fit_transform(data[[\"pm2.5\"]].values)\n",
        "\n",
        "\n",
        "train_size = int(len(data) * 0.8)\n",
        "train_data = data[:train_size]\n",
        "test_data = data[train_size:]\n",
        "\n",
        "\n",
        "class LSTM(nn.Module):\n",
        "    def __init__(self, input_size, hidden_size, output_size):\n",
        "        super().__init__()\n",
        "        self.hidden_size = hidden_size\n",
        "        self.lstm = nn.LSTM(input_size, hidden_size, batch_first=True)\n",
        "        self.fc = nn.Linear(hidden_size, output_size)\n",
        "\n",
        "    def forward(self, x):\n",
        "        h0 = torch.zeros(1, x.size(0), self.hidden_size).requires_grad_()\n",
        "        c0 = torch.zeros(1, x.size(0), self.hidden_size).requires_grad_()\n",
        "\n",
        "        out, (hn, cn) = self.lstm(x, (h0.detach(), c0.detach()))\n",
        "        out = self.fc(out[:, -1, :])\n",
        "        return out\n",
        "\n",
        "\n",
        "input_size = 1\n",
        "hidden_size = 64\n",
        "output_size = 1\n",
        "num_epochs = 100\n",
        "learning_rate = 0.01\n",
        "\n",
        "\n",
        "train_X = torch.Tensor(train_data[\"scaled_pm2.5\"].values).view(-1, 1, 1)\n",
        "train_y = torch.Tensor(train_data[\"scaled_pm2.5\"].values).view(-1, 1)\n",
        "\n",
        "\n",
        "model = LSTM(input_size, hidden_size, output_size)\n",
        "criterion = nn.MSELoss()\n",
        "optimizer = torch.optim.Adam(model.parameters(), lr=learning_rate)\n",
        "\n",
        "for epoch in range(num_epochs):\n",
        "    outputs = model(train_X)\n",
        "    loss = criterion(outputs, train_y)\n",
        "\n",
        "    if np.isnan(loss.item()):\n",
        "        print(\"Epoch [{}/{}], Loss: {:.4f}\".format(epoch+1, num_epochs, loss.item()))\n",
        "        break\n",
        "\n",
        "    optimizer.zero_grad()\n",
        "    loss.backward()\n",
        "    optimizer.step()\n",
        "\n",
        "    if epoch % 10 == 0:\n",
        "        print(\"Epoch [{}/{}], Loss: {:.4f}\".format(epoch+1, num_epochs, loss.item()))\n",
        "\n",
        "\n",
        "model.eval()\n",
        "test_X = torch.Tensor(test_data[\"scaled_pm2.5\"].values).view(-1, 1, 1)\n",
        "predicted_y = model(test_X).detach().numpy()\n",
        "predicted_y = scaler.inverse_transform(predicted_y)\n",
        "\n",
        "\n",
        "if np.isnan(predicted_y).any():\n",
        "    print(\"Predicted values contain NaN\")\n",
        "else:\n",
        "    test_y = test_data[\"pm2.5\"].values\n",
        "    rmse = np.sqrt(np.mean((predicted_y - test_y)**2))\n",
        "    print(\"RMSE:\", rmse)\n"
      ],
      "metadata": {
        "colab": {
          "base_uri": "https://localhost:8080/"
        },
        "id": "WLuYJDsjpgao",
        "outputId": "d231f3bd-f166-440f-8a62-eb1915a816a8"
      },
      "execution_count": null,
      "outputs": [
        {
          "output_type": "stream",
          "name": "stdout",
          "text": [
            "Epoch [1/100], Loss: 0.0145\n",
            "Epoch [11/100], Loss: 0.0072\n",
            "Epoch [21/100], Loss: 0.0039\n",
            "Epoch [31/100], Loss: 0.0004\n",
            "Epoch [41/100], Loss: 0.0004\n",
            "Epoch [51/100], Loss: 0.0000\n",
            "Epoch [61/100], Loss: 0.0001\n",
            "Epoch [71/100], Loss: 0.0000\n",
            "Epoch [81/100], Loss: 0.0000\n",
            "Epoch [91/100], Loss: 0.0000\n",
            "RMSE: 133.43228308158473\n"
          ]
        }
      ]
    },
    {
      "cell_type": "code",
      "source": [
        "from torchviz import make_dot\n",
        "outputs=model(train_X)\n",
        "make_dot(outputs, params=dict(model.named_parameters()))"
      ],
      "metadata": {
        "colab": {
          "base_uri": "https://localhost:8080/",
          "height": 724
        },
        "id": "Qx3Ak8X-pwfZ",
        "outputId": "97109041-c92b-434d-a6e3-cca6ab37ecd0"
      },
      "execution_count": null,
      "outputs": [
        {
          "output_type": "execute_result",
          "data": {
            "image/svg+xml": "<?xml version=\"1.0\" encoding=\"UTF-8\" standalone=\"no\"?>\n<!DOCTYPE svg PUBLIC \"-//W3C//DTD SVG 1.1//EN\"\n \"http://www.w3.org/Graphics/SVG/1.1/DTD/svg11.dtd\">\n<!-- Generated by graphviz version 2.43.0 (0)\n -->\n<!-- Title: %3 Pages: 1 -->\n<svg width=\"514pt\" height=\"512pt\"\n viewBox=\"0.00 0.00 514.00 512.00\" xmlns=\"http://www.w3.org/2000/svg\" xmlns:xlink=\"http://www.w3.org/1999/xlink\">\n<g id=\"graph0\" class=\"graph\" transform=\"scale(1 1) rotate(0) translate(4 508)\">\n<title>%3</title>\n<polygon fill=\"white\" stroke=\"transparent\" points=\"-4,4 -4,-508 510,-508 510,4 -4,4\"/>\n<!-- 140598457301168 -->\n<g id=\"node1\" class=\"node\">\n<title>140598457301168</title>\n<polygon fill=\"#caff70\" stroke=\"black\" points=\"309,-31 226,-31 226,0 309,0 309,-31\"/>\n<text text-anchor=\"middle\" x=\"267.5\" y=\"-7\" font-family=\"monospace\" font-size=\"10.00\"> (33405, 1)</text>\n</g>\n<!-- 140598457357648 -->\n<g id=\"node2\" class=\"node\">\n<title>140598457357648</title>\n<polygon fill=\"lightgrey\" stroke=\"black\" points=\"318,-86 217,-86 217,-67 318,-67 318,-86\"/>\n<text text-anchor=\"middle\" x=\"267.5\" y=\"-74\" font-family=\"monospace\" font-size=\"10.00\">AddmmBackward0</text>\n</g>\n<!-- 140598457357648&#45;&gt;140598457301168 -->\n<g id=\"edge19\" class=\"edge\">\n<title>140598457357648&#45;&gt;140598457301168</title>\n<path fill=\"none\" stroke=\"black\" d=\"M267.5,-66.79C267.5,-60.07 267.5,-50.4 267.5,-41.34\"/>\n<polygon fill=\"black\" stroke=\"black\" points=\"271,-41.19 267.5,-31.19 264,-41.19 271,-41.19\"/>\n</g>\n<!-- 140598457358368 -->\n<g id=\"node3\" class=\"node\">\n<title>140598457358368</title>\n<polygon fill=\"lightgrey\" stroke=\"black\" points=\"199,-141 98,-141 98,-122 199,-122 199,-141\"/>\n<text text-anchor=\"middle\" x=\"148.5\" y=\"-129\" font-family=\"monospace\" font-size=\"10.00\">AccumulateGrad</text>\n</g>\n<!-- 140598457358368&#45;&gt;140598457357648 -->\n<g id=\"edge1\" class=\"edge\">\n<title>140598457358368&#45;&gt;140598457357648</title>\n<path fill=\"none\" stroke=\"black\" d=\"M167.62,-121.98C186.85,-113.42 216.73,-100.11 238.81,-90.28\"/>\n<polygon fill=\"black\" stroke=\"black\" points=\"240.32,-93.44 248.03,-86.17 237.47,-87.04 240.32,-93.44\"/>\n</g>\n<!-- 140598445782016 -->\n<g id=\"node4\" class=\"node\">\n<title>140598445782016</title>\n<polygon fill=\"lightblue\" stroke=\"black\" points=\"178,-207 119,-207 119,-177 178,-177 178,-207\"/>\n<text text-anchor=\"middle\" x=\"148.5\" y=\"-195\" font-family=\"monospace\" font-size=\"10.00\">fc.bias</text>\n<text text-anchor=\"middle\" x=\"148.5\" y=\"-184\" font-family=\"monospace\" font-size=\"10.00\"> (1)</text>\n</g>\n<!-- 140598445782016&#45;&gt;140598457358368 -->\n<g id=\"edge2\" class=\"edge\">\n<title>140598445782016&#45;&gt;140598457358368</title>\n<path fill=\"none\" stroke=\"black\" d=\"M148.5,-176.84C148.5,-169.21 148.5,-159.7 148.5,-151.45\"/>\n<polygon fill=\"black\" stroke=\"black\" points=\"152,-151.27 148.5,-141.27 145,-151.27 152,-151.27\"/>\n</g>\n<!-- 140598457358608 -->\n<g id=\"node5\" class=\"node\">\n<title>140598457358608</title>\n<polygon fill=\"lightgrey\" stroke=\"black\" points=\"318,-141 217,-141 217,-122 318,-122 318,-141\"/>\n<text text-anchor=\"middle\" x=\"267.5\" y=\"-129\" font-family=\"monospace\" font-size=\"10.00\">SliceBackward0</text>\n</g>\n<!-- 140598457358608&#45;&gt;140598457357648 -->\n<g id=\"edge3\" class=\"edge\">\n<title>140598457358608&#45;&gt;140598457357648</title>\n<path fill=\"none\" stroke=\"black\" d=\"M267.5,-121.75C267.5,-114.8 267.5,-104.85 267.5,-96.13\"/>\n<polygon fill=\"black\" stroke=\"black\" points=\"271,-96.09 267.5,-86.09 264,-96.09 271,-96.09\"/>\n</g>\n<!-- 140598457358560 -->\n<g id=\"node6\" class=\"node\">\n<title>140598457358560</title>\n<polygon fill=\"lightgrey\" stroke=\"black\" points=\"317,-201.5 210,-201.5 210,-182.5 317,-182.5 317,-201.5\"/>\n<text text-anchor=\"middle\" x=\"263.5\" y=\"-189.5\" font-family=\"monospace\" font-size=\"10.00\">SelectBackward0</text>\n</g>\n<!-- 140598457358560&#45;&gt;140598457358608 -->\n<g id=\"edge4\" class=\"edge\">\n<title>140598457358560&#45;&gt;140598457358608</title>\n<path fill=\"none\" stroke=\"black\" d=\"M264.09,-182.37C264.65,-174.25 265.5,-161.81 266.21,-151.39\"/>\n<polygon fill=\"black\" stroke=\"black\" points=\"269.72,-151.38 266.91,-141.17 262.73,-150.91 269.72,-151.38\"/>\n</g>\n<!-- 140598457358320 -->\n<g id=\"node7\" class=\"node\">\n<title>140598457358320</title>\n<polygon fill=\"lightgrey\" stroke=\"black\" points=\"314,-267.5 213,-267.5 213,-248.5 314,-248.5 314,-267.5\"/>\n<text text-anchor=\"middle\" x=\"263.5\" y=\"-255.5\" font-family=\"monospace\" font-size=\"10.00\">SliceBackward0</text>\n</g>\n<!-- 140598457358320&#45;&gt;140598457358560 -->\n<g id=\"edge5\" class=\"edge\">\n<title>140598457358320&#45;&gt;140598457358560</title>\n<path fill=\"none\" stroke=\"black\" d=\"M263.5,-248.37C263.5,-239.16 263.5,-224.29 263.5,-212.27\"/>\n<polygon fill=\"black\" stroke=\"black\" points=\"267,-211.91 263.5,-201.91 260,-211.91 267,-211.91\"/>\n</g>\n<!-- 140598457358224 -->\n<g id=\"node8\" class=\"node\">\n<title>140598457358224</title>\n<polygon fill=\"lightgrey\" stroke=\"black\" points=\"326,-328 201,-328 201,-309 326,-309 326,-328\"/>\n<text text-anchor=\"middle\" x=\"263.5\" y=\"-316\" font-family=\"monospace\" font-size=\"10.00\">TransposeBackward0</text>\n</g>\n<!-- 140598457358224&#45;&gt;140598457358320 -->\n<g id=\"edge6\" class=\"edge\">\n<title>140598457358224&#45;&gt;140598457358320</title>\n<path fill=\"none\" stroke=\"black\" d=\"M263.5,-308.87C263.5,-300.75 263.5,-288.31 263.5,-277.89\"/>\n<polygon fill=\"black\" stroke=\"black\" points=\"267,-277.67 263.5,-267.67 260,-277.67 267,-277.67\"/>\n</g>\n<!-- 140598457358128 -->\n<g id=\"node9\" class=\"node\">\n<title>140598457358128</title>\n<polygon fill=\"lightgrey\" stroke=\"black\" points=\"341,-383 186,-383 186,-364 341,-364 341,-383\"/>\n<text text-anchor=\"middle\" x=\"263.5\" y=\"-371\" font-family=\"monospace\" font-size=\"10.00\">MkldnnRnnLayerBackward0</text>\n</g>\n<!-- 140598457358128&#45;&gt;140598457358224 -->\n<g id=\"edge7\" class=\"edge\">\n<title>140598457358128&#45;&gt;140598457358224</title>\n<path fill=\"none\" stroke=\"black\" d=\"M263.5,-363.75C263.5,-356.8 263.5,-346.85 263.5,-338.13\"/>\n<polygon fill=\"black\" stroke=\"black\" points=\"267,-338.09 263.5,-328.09 260,-338.09 267,-338.09\"/>\n</g>\n<!-- 140598457358032 -->\n<g id=\"node10\" class=\"node\">\n<title>140598457358032</title>\n<polygon fill=\"lightgrey\" stroke=\"black\" points=\"125,-438 24,-438 24,-419 125,-419 125,-438\"/>\n<text text-anchor=\"middle\" x=\"74.5\" y=\"-426\" font-family=\"monospace\" font-size=\"10.00\">AccumulateGrad</text>\n</g>\n<!-- 140598457358032&#45;&gt;140598457358128 -->\n<g id=\"edge8\" class=\"edge\">\n<title>140598457358032&#45;&gt;140598457358128</title>\n<path fill=\"none\" stroke=\"black\" d=\"M104.87,-418.98C136.87,-410.01 187.46,-395.82 222.88,-385.89\"/>\n<polygon fill=\"black\" stroke=\"black\" points=\"224.21,-389.15 232.9,-383.08 222.32,-382.41 224.21,-389.15\"/>\n</g>\n<!-- 140598445781296 -->\n<g id=\"node11\" class=\"node\">\n<title>140598445781296</title>\n<polygon fill=\"lightblue\" stroke=\"black\" points=\"119,-504 0,-504 0,-474 119,-474 119,-504\"/>\n<text text-anchor=\"middle\" x=\"59.5\" y=\"-492\" font-family=\"monospace\" font-size=\"10.00\">lstm.weight_ih_l0</text>\n<text text-anchor=\"middle\" x=\"59.5\" y=\"-481\" font-family=\"monospace\" font-size=\"10.00\"> (256, 1)</text>\n</g>\n<!-- 140598445781296&#45;&gt;140598457358032 -->\n<g id=\"edge9\" class=\"edge\">\n<title>140598445781296&#45;&gt;140598457358032</title>\n<path fill=\"none\" stroke=\"black\" d=\"M63.13,-473.84C65.11,-466.13 67.58,-456.49 69.71,-448.17\"/>\n<polygon fill=\"black\" stroke=\"black\" points=\"73.16,-448.82 72.25,-438.27 66.38,-447.08 73.16,-448.82\"/>\n</g>\n<!-- 140598457358080 -->\n<g id=\"node12\" class=\"node\">\n<title>140598457358080</title>\n<polygon fill=\"lightgrey\" stroke=\"black\" points=\"253,-438 152,-438 152,-419 253,-419 253,-438\"/>\n<text text-anchor=\"middle\" x=\"202.5\" y=\"-426\" font-family=\"monospace\" font-size=\"10.00\">AccumulateGrad</text>\n</g>\n<!-- 140598457358080&#45;&gt;140598457358128 -->\n<g id=\"edge10\" class=\"edge\">\n<title>140598457358080&#45;&gt;140598457358128</title>\n<path fill=\"none\" stroke=\"black\" d=\"M212.3,-418.98C221.32,-411.15 234.91,-399.34 245.82,-389.86\"/>\n<polygon fill=\"black\" stroke=\"black\" points=\"248.27,-392.37 253.52,-383.17 243.68,-387.09 248.27,-392.37\"/>\n</g>\n<!-- 140598445781376 -->\n<g id=\"node13\" class=\"node\">\n<title>140598445781376</title>\n<polygon fill=\"lightblue\" stroke=\"black\" points=\"256,-504 137,-504 137,-474 256,-474 256,-504\"/>\n<text text-anchor=\"middle\" x=\"196.5\" y=\"-492\" font-family=\"monospace\" font-size=\"10.00\">lstm.weight_hh_l0</text>\n<text text-anchor=\"middle\" x=\"196.5\" y=\"-481\" font-family=\"monospace\" font-size=\"10.00\"> (256, 64)</text>\n</g>\n<!-- 140598445781376&#45;&gt;140598457358080 -->\n<g id=\"edge11\" class=\"edge\">\n<title>140598445781376&#45;&gt;140598457358080</title>\n<path fill=\"none\" stroke=\"black\" d=\"M197.95,-473.84C198.73,-466.21 199.71,-456.7 200.56,-448.45\"/>\n<polygon fill=\"black\" stroke=\"black\" points=\"204.06,-448.57 201.6,-438.27 197.1,-447.86 204.06,-448.57\"/>\n</g>\n<!-- 140598457358512 -->\n<g id=\"node14\" class=\"node\">\n<title>140598457358512</title>\n<polygon fill=\"lightgrey\" stroke=\"black\" points=\"375,-438 274,-438 274,-419 375,-419 375,-438\"/>\n<text text-anchor=\"middle\" x=\"324.5\" y=\"-426\" font-family=\"monospace\" font-size=\"10.00\">AccumulateGrad</text>\n</g>\n<!-- 140598457358512&#45;&gt;140598457358128 -->\n<g id=\"edge12\" class=\"edge\">\n<title>140598457358512&#45;&gt;140598457358128</title>\n<path fill=\"none\" stroke=\"black\" d=\"M314.7,-418.98C305.68,-411.15 292.09,-399.34 281.18,-389.86\"/>\n<polygon fill=\"black\" stroke=\"black\" points=\"283.32,-387.09 273.48,-383.17 278.73,-392.37 283.32,-387.09\"/>\n</g>\n<!-- 140598445781456 -->\n<g id=\"node15\" class=\"node\">\n<title>140598445781456</title>\n<polygon fill=\"lightblue\" stroke=\"black\" points=\"381,-504 274,-504 274,-474 381,-474 381,-504\"/>\n<text text-anchor=\"middle\" x=\"327.5\" y=\"-492\" font-family=\"monospace\" font-size=\"10.00\">lstm.bias_ih_l0</text>\n<text text-anchor=\"middle\" x=\"327.5\" y=\"-481\" font-family=\"monospace\" font-size=\"10.00\"> (256)</text>\n</g>\n<!-- 140598445781456&#45;&gt;140598457358512 -->\n<g id=\"edge13\" class=\"edge\">\n<title>140598445781456&#45;&gt;140598457358512</title>\n<path fill=\"none\" stroke=\"black\" d=\"M326.77,-473.84C326.38,-466.21 325.9,-456.7 325.47,-448.45\"/>\n<polygon fill=\"black\" stroke=\"black\" points=\"328.96,-448.07 324.95,-438.27 321.97,-448.43 328.96,-448.07\"/>\n</g>\n<!-- 140598457357984 -->\n<g id=\"node16\" class=\"node\">\n<title>140598457357984</title>\n<polygon fill=\"lightgrey\" stroke=\"black\" points=\"498,-438 397,-438 397,-419 498,-419 498,-438\"/>\n<text text-anchor=\"middle\" x=\"447.5\" y=\"-426\" font-family=\"monospace\" font-size=\"10.00\">AccumulateGrad</text>\n</g>\n<!-- 140598457357984&#45;&gt;140598457358128 -->\n<g id=\"edge14\" class=\"edge\">\n<title>140598457357984&#45;&gt;140598457358128</title>\n<path fill=\"none\" stroke=\"black\" d=\"M417.94,-418.98C386.78,-410.01 337.53,-395.82 303.04,-385.89\"/>\n<polygon fill=\"black\" stroke=\"black\" points=\"303.87,-382.49 293.29,-383.08 301.93,-389.21 303.87,-382.49\"/>\n</g>\n<!-- 140598445781536 -->\n<g id=\"node17\" class=\"node\">\n<title>140598445781536</title>\n<polygon fill=\"lightblue\" stroke=\"black\" points=\"506,-504 399,-504 399,-474 506,-474 506,-504\"/>\n<text text-anchor=\"middle\" x=\"452.5\" y=\"-492\" font-family=\"monospace\" font-size=\"10.00\">lstm.bias_hh_l0</text>\n<text text-anchor=\"middle\" x=\"452.5\" y=\"-481\" font-family=\"monospace\" font-size=\"10.00\"> (256)</text>\n</g>\n<!-- 140598445781536&#45;&gt;140598457357984 -->\n<g id=\"edge15\" class=\"edge\">\n<title>140598445781536&#45;&gt;140598457357984</title>\n<path fill=\"none\" stroke=\"black\" d=\"M451.29,-473.84C450.64,-466.21 449.83,-456.7 449.12,-448.45\"/>\n<polygon fill=\"black\" stroke=\"black\" points=\"452.59,-447.93 448.25,-438.27 445.61,-448.53 452.59,-447.93\"/>\n</g>\n<!-- 140598457358656 -->\n<g id=\"node18\" class=\"node\">\n<title>140598457358656</title>\n<polygon fill=\"lightgrey\" stroke=\"black\" points=\"417,-141 340,-141 340,-122 417,-122 417,-141\"/>\n<text text-anchor=\"middle\" x=\"378.5\" y=\"-129\" font-family=\"monospace\" font-size=\"10.00\">TBackward0</text>\n</g>\n<!-- 140598457358656&#45;&gt;140598457357648 -->\n<g id=\"edge16\" class=\"edge\">\n<title>140598457358656&#45;&gt;140598457357648</title>\n<path fill=\"none\" stroke=\"black\" d=\"M360.67,-121.98C342.89,-113.5 315.35,-100.35 294.82,-90.54\"/>\n<polygon fill=\"black\" stroke=\"black\" points=\"296.19,-87.32 285.66,-86.17 293.17,-93.64 296.19,-87.32\"/>\n</g>\n<!-- 140598457358272 -->\n<g id=\"node19\" class=\"node\">\n<title>140598457358272</title>\n<polygon fill=\"lightgrey\" stroke=\"black\" points=\"436,-201.5 335,-201.5 335,-182.5 436,-182.5 436,-201.5\"/>\n<text text-anchor=\"middle\" x=\"385.5\" y=\"-189.5\" font-family=\"monospace\" font-size=\"10.00\">AccumulateGrad</text>\n</g>\n<!-- 140598457358272&#45;&gt;140598457358656 -->\n<g id=\"edge17\" class=\"edge\">\n<title>140598457358272&#45;&gt;140598457358656</title>\n<path fill=\"none\" stroke=\"black\" d=\"M384.47,-182.37C383.5,-174.25 382.01,-161.81 380.76,-151.39\"/>\n<polygon fill=\"black\" stroke=\"black\" points=\"384.2,-150.68 379.54,-141.17 377.25,-151.51 384.2,-150.68\"/>\n</g>\n<!-- 140598445781936 -->\n<g id=\"node20\" class=\"node\">\n<title>140598445781936</title>\n<polygon fill=\"lightblue\" stroke=\"black\" points=\"421,-273 350,-273 350,-243 421,-243 421,-273\"/>\n<text text-anchor=\"middle\" x=\"385.5\" y=\"-261\" font-family=\"monospace\" font-size=\"10.00\">fc.weight</text>\n<text text-anchor=\"middle\" x=\"385.5\" y=\"-250\" font-family=\"monospace\" font-size=\"10.00\"> (1, 64)</text>\n</g>\n<!-- 140598445781936&#45;&gt;140598457358272 -->\n<g id=\"edge18\" class=\"edge\">\n<title>140598445781936&#45;&gt;140598457358272</title>\n<path fill=\"none\" stroke=\"black\" d=\"M385.5,-242.8C385.5,-233.7 385.5,-221.79 385.5,-211.9\"/>\n<polygon fill=\"black\" stroke=\"black\" points=\"389,-211.84 385.5,-201.84 382,-211.84 389,-211.84\"/>\n</g>\n</g>\n</svg>\n",
            "text/plain": [
              "<graphviz.graphs.Digraph at 0x7fdfa11b5580>"
            ]
          },
          "metadata": {},
          "execution_count": 12
        }
      ]
    }
  ]
}